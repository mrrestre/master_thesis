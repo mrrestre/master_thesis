{
 "cells": [
  {
   "cell_type": "code",
   "execution_count": null,
   "metadata": {},
   "outputs": [
    {
     "name": "stdout",
     "output_type": "stream",
     "text": [
      "content='This document describes three processes: data transfer and allocation, pensioner record creation, and iREK-1 report parameter configuration.\\n\\n**Data Transfer and Allocation:** This process transfers tax and pricing data from Purchase Orders or Scheduling Agreements to the Supplier Self-Service (SUS) system using IDocs (ORDERS02 and ORDCHG), function modules, and mapping to the `PurchaseOrderRequest` message type. Specific IDoc segments (E1 EDP 04 and E1 EDP 05) are used; segment E1 EDP 05 is mandatory for ORDERS02. Only conditions marked for printing are included.  Allocation uses iterative and non-iterative methods, with receiver rules determining allocation sizes using variable portions (based on FI-SL summary database values), fixed amounts, percentages, or portions. Allocation types include actual/planned assessment and actual/planned distribution.  Assessment posts sender and receiver amounts to an assessment account, while distribution allocates the balance from the original sender to the receiver. Both use actual and plan data. Allocated data is stored separately in summary tables, allowing viewing of actual or plan data with or without allocated values. Results are displayed based on sender-receiver relationships.  The allocation process details include allocation segments, rules for sender and receiver objects, the use of segments within a cycle, and examples of distribution and assessment. This includes defining sender and receiver object data (cost center, account number, business area), using sets, specifying sender values (posted amounts, fixed rates, fixed amounts), and receiver tracing factors (variable portions, fixed amounts, fixed percentages, fixed portions).  An allocation segment summarizes values determined by the same rules for sender and receiver objects.  It can contain multiple allocation segments within a cycle, defining sender and receiver values, and using posted amounts, fixed rates, fixed amounts, variable portions, fixed percentages, and fixed portions.\\n\\n**Pensioner Record Creation:** This process creates pensioner records by selecting a personnel action and entering specific SI keys based on insurance type (statutory, voluntary/private), pension insurance number, health insurance fund, contribution scales (if applicable), maximum gross health insurance, and checking the SI Attribute for Pensioner (default value 02).\\n\\n**iREK-1 (HSICRK18) Report Parameters:**  This section details parameters for the iREK-1 (HSICRK18) report, including payroll period, location, employee selection criteria (assigned/unassigned/all), resident status, payment limits, company code/personnel area selection, individual data display, responsible person details, document type, substitutional person ID, correction document IDs, payment dates, partial payment sequence numbers, partial payment percentages for tax and insurance, file transfer options (PC, file server, no transfer), analytical data creation, cumulative value saving, UTF-8 encoding, SOAP posting, and the XML file output folder.' additional_kwargs={} response_metadata={'prompt_feedback': {'block_reason': 0, 'safety_ratings': []}, 'finish_reason': 'STOP', 'safety_ratings': []} id='run-9685ecbe-8655-45ba-9749-34d47e8f1a07-0' usage_metadata={'input_tokens': 1917, 'output_tokens': 590, 'total_tokens': 2507, 'input_token_details': {'cache_read': 0}}\n"
     ]
    }
   ],
   "source": [
    "import os\n",
    "from dotenv import load_dotenv\n",
    "\n",
    "from agent_tools.sap_help_searcher import SapHelpSearcher\n",
    "\n",
    "from config import LLM_configs\n",
    "\n",
    "#Only needed for local testing of tools otherwise set by the main agent\n",
    "load_dotenv()\n",
    "os.environ[\"LLM_IN_USE\"] = LLM_configs.GEMINI_15_FLASH[\"name\"]\n",
    "\n",
    "sap_help_searcher = SapHelpSearcher() \n",
    "output = sap_help_searcher.method(\"EDP\")\n",
    "\n",
    "print(output)"
   ]
  }
 ],
 "metadata": {
  "kernelspec": {
   "display_name": "react-agent-CUxtcVGL-py3.13",
   "language": "python",
   "name": "python3"
  },
  "language_info": {
   "codemirror_mode": {
    "name": "ipython",
    "version": 3
   },
   "file_extension": ".py",
   "mimetype": "text/x-python",
   "name": "python",
   "nbconvert_exporter": "python",
   "pygments_lexer": "ipython3",
   "version": "3.13.2"
  }
 },
 "nbformat": 4,
 "nbformat_minor": 2
}
