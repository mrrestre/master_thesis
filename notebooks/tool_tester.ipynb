{
 "cells": [
  {
   "cell_type": "code",
   "execution_count": 2,
   "metadata": {},
   "outputs": [
    {
     "name": "stdout",
     "output_type": "stream",
     "text": [
      "content=\"### Summary of Purchase Order Processing, Allocation Cycle Processing, Allocation Types, and Allocation Segments\\n\\n#### Purchase Order or Scheduling Agreement Processing\\n**Use**  \\nThis function facilitates the transfer of tax and pricing data to the Supplier Self-Service (SUS) system when a purchaser creates or modifies a Purchase Order or Scheduling Agreement.\\n\\n**Prerequisites**  \\nTo populate the pricing condition in segment E1 EDP 05 of IDoc ORDERS02 during Purchase Order processing, a view must be created using transaction WE32 for IDoc ORDERS02, making segment E1 EDP 05 mandatory. The function module IDOC_OUTPUT_ORDERS will populate this segment, transmitting only tax and pricing conditions marked with 'X' for print in tax and pricing procedures to the SUS system.\\n\\n**Features**  \\n- New segments added to the ORDERS02 IDoc (for new Purchase Orders) and ORDCHG IDoc (for changed Purchase Orders) include:\\n  - E1 EDP 04 for tax data\\n  - E1 EDP 05 for pricing data\\n- The function module IDOC_OUTPUT_ORDERS includes a BADI (Business Add-In) MM_EDI_ORDERS_OUT with a method PROCESS_IDOC_SEGMENT, which calls the Pricing Function Module to populate tax and pricing data into the IDoc segments. The IDoc is then sent to the adapter in the XI system.\\n- In the XI system, the tax and pricing information in segments E1 EDP 04 and E1 EDP 05 of the ORDERS02 IDoc must be mapped to structures of Message Type PurchaseOrderRequest. Corresponding data types are defined in the Integration Repository (Design) for mapping purposes.\\n- The adapter converts the IDocs into XML messages and transmits them to the Supplier Self-Service system.\\n\\n---\\n\\n#### Allocation Cycle Processing and Receiver Rules for Allocation\\n**Use**  \\nAllocation cycles can be processed iteratively or non-iteratively.\\n\\n**Features**  \\n- **Iterative Processing**: The result of one segment influences others, creating dependencies. The system continues processing until all senders are fully credited, regardless of the order of segments. If a non-solvable relationship exists among senders/receivers, the system will halt processing and display an error.\\n  \\n- **Non-Iterative Processing**: Each segment operates independently, with no influence from previous segments. The order of segments does not affect the allocation results.\\n\\n**Receiver Rules**  \\nReceiver rules determine how tracing sizes are calculated, utilizing various factors such as variable portions, fixed amounts, fixed percentages, and fixed portions:\\n- **Variable Portions**: Allocated based on values in the FI-SL summary database, such as headcount of cost centers.\\n- **Fixed Amounts**: A specific fixed amount is allocated to each receiver, independent of the sender's total.\\n- **Fixed Percentages**: A fixed percentage is assessed/distributed to each receiver based on the sender's amount, with the total not exceeding 100%.\\n- **Fixed Portions**: Similar to variable portions, but the portions are predetermined and do not vary based on external factors.\\n\\n---\\n\\n### Allocation Types and Allocation Segments\\n**Definition**  \\nSummary of processes that can occur in connection with an allocation.\\n\\n- **Distribution**: Amounts and quantities of one or more sender objects are distributed to one or more receiver objects. The debit and credit postings for the distribution occur under the original account/cost element, retaining the original information. Distribution can be performed with actual and plan data.\\n\\n- **Assessment**: Similar to distribution, but postings occur under an assessment account or cost element, losing the original account information. Assessment can also be performed with actual and plan data.\\n\\n**Structure**  \\nDuring allocation, the following types are distinguished:\\n- Actual assessment\\n- Planned assessment\\n- Actual distribution\\n- Planned distribution\\n\\nAssessed/distributed data records are stored separately in summary tables, allowing for the viewing of actual or plan data with or without allocated values.\\n\\n**Example**  \\n- **Assessment**: Both sender and receiver amounts are posted to an assessment account, which accumulates balances and allocates them to various profit centers.\\n  \\n- **Distribution**: The balance from the original sender is allocated to the receiver, with the original sender account credited and the receiver account debited.\\n\\n---\\n\\n**Allocation Segment**  \\n**Definition**  \\nSummary of the rules for the allocation. The following information is summarized in an allocation segment:\\n\\n**Rules for Sender and Receiver Objects**  \\n- All values to be allocated that are determined according to the same rules are summarized for the sender objects.\\n- All receiver trace objects that are determined according to the same rules are summarized for the receiver objects.\\n\\n**Use**  \\nYou can define several segments within a cycle.\\n\\n**Overview: Sender Values/Receiver Tracing Factors per Allocation**  \\n| Allocation   | Sender Values                          | Tracing Factors of the Receiver Objects            |\\n|--------------|----------------------------------------|---------------------------------------------------|\\n| Distribution  | - Posted amounts  - Fixed amounts  - Fixed rates | - Variable portions  -\" additional_kwargs={'refusal': None} response_metadata={'token_usage': {'completion_tokens': 1024, 'prompt_tokens': 2462, 'total_tokens': 3486, 'completion_tokens_details': {'accepted_prediction_tokens': 0, 'audio_tokens': 0, 'reasoning_tokens': 0, 'rejected_prediction_tokens': 0}, 'prompt_tokens_details': {'audio_tokens': 0, 'cached_tokens': 0}}, 'model_name': 'gpt-4o-mini-2024-07-18', 'system_fingerprint': 'fp_ded0d14823', 'id': 'chatcmpl-BFKx6XuG4OrM3QVeQxE6LDXogSQ36', 'finish_reason': 'length', 'logprobs': None} id='run-7b1501cd-af8f-4701-b840-d402987bf0cc-0' usage_metadata={'input_tokens': 2462, 'output_tokens': 1024, 'total_tokens': 3486, 'input_token_details': {'audio': 0, 'cache_read': 0}, 'output_token_details': {'audio': 0, 'reasoning': 0}}\n"
     ]
    }
   ],
   "source": [
    "from agent_tools.sap_help_searcher import SapHelpSearcher\n",
    "\n",
    "sap_help_searcher = SapHelpSearcher() \n",
    "output = sap_help_searcher.method(\"EDP\")\n",
    "\n",
    "print(output)"
   ]
  }
 ],
 "metadata": {
  "kernelspec": {
   "display_name": "react-agent-CUxtcVGL-py3.13",
   "language": "python",
   "name": "python3"
  },
  "language_info": {
   "codemirror_mode": {
    "name": "ipython",
    "version": 3
   },
   "file_extension": ".py",
   "mimetype": "text/x-python",
   "name": "python",
   "nbconvert_exporter": "python",
   "pygments_lexer": "ipython3",
   "version": "3.13.2"
  }
 },
 "nbformat": 4,
 "nbformat_minor": 2
}
