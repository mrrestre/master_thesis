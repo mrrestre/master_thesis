{
 "cells": [
  {
   "cell_type": "code",
   "execution_count": 1,
   "metadata": {},
   "outputs": [
    {
     "name": "stdout",
     "output_type": "stream",
     "text": [
      "content=\"**Purchase Order or Scheduling Agreement Processing**\\n\\n**Overview:**  \\nThis function enables the transfer of tax and pricing data to the Supplier Self-Service (SUS) system when a purchaser creates or modifies a Purchase Order or Scheduling Agreement.\\n\\n**Prerequisites:**  \\nTo process a Purchase Order and populate the pricing condition in segment E1EDP05 of IDoc ORDER02, a view must be created using transaction WE32 for IDoc ORDERS02, making segment E1EDP05 mandatory. The function module IDOC_OUTPUT_ORDERS then populates this segment. Only tax and pricing conditions marked with 'X' for print in tax and pricing procedures are transferred to the SUS system.\\n\\n**Features:**  \\n- New segments added to ORDERS02 IDoc (new Purchase Order) and ORDCHG IDoc (changed Purchase Order) for data transfer:\\n  - E1EDP04 for tax data\\n  - E1EDP05 for pricing data\\n- The function module IDOC_OUTPUT_ORDERS includes a BADI MM_EDI_ORDERS_OUT with a method PROCESS_IDOC_SEGMENT, which calls the Pricing Function Module to populate tax and pricing data into IDoc segments. The IDoc is then transferred to the adapter in the XI system.\\n\\n---\\n\\n**\" additional_kwargs={'refusal': None} response_metadata={'token_usage': {'completion_tokens': 256, 'prompt_tokens': 1619, 'total_tokens': 1875, 'completion_tokens_details': {'accepted_prediction_tokens': 0, 'audio_tokens': 0, 'reasoning_tokens': 0, 'rejected_prediction_tokens': 0}, 'prompt_tokens_details': {'audio_tokens': 0, 'cached_tokens': 0}}, 'model_name': 'gpt-4o-2024-08-06', 'system_fingerprint': 'fp_ded0d14823', 'id': 'chatcmpl-BG2t2TYFphAKbU2KF2qplcIuRlRVj', 'finish_reason': 'length', 'logprobs': None} id='run-6b1731c0-380b-4ff7-bef0-e499e460173a-0' usage_metadata={'input_tokens': 1619, 'output_tokens': 256, 'total_tokens': 1875, 'input_token_details': {'audio': 0, 'cache_read': 0}, 'output_token_details': {'audio': 0, 'reasoning': 0}}\n"
     ]
    }
   ],
   "source": [
    "from agent_tools.sap_help_searcher import SapHelpSearcher\n",
    "\n",
    "sap_help_searcher = SapHelpSearcher() \n",
    "output = sap_help_searcher._run(\"EDP\")\n",
    "\n",
    "print(output)"
   ]
  }
 ],
 "metadata": {
  "kernelspec": {
   "display_name": "react-agent-CUxtcVGL-py3.13",
   "language": "python",
   "name": "python3"
  },
  "language_info": {
   "codemirror_mode": {
    "name": "ipython",
    "version": 3
   },
   "file_extension": ".py",
   "mimetype": "text/x-python",
   "name": "python",
   "nbconvert_exporter": "python",
   "pygments_lexer": "ipython3",
   "version": "3.13.2"
  }
 },
 "nbformat": 4,
 "nbformat_minor": 2
}
