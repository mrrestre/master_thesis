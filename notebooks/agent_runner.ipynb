{
 "cells": [
  {
   "cell_type": "code",
   "execution_count": null,
   "metadata": {},
   "outputs": [],
   "source": [
    "from IPython.display import Image, display\n",
    "\n",
    "from agents.react_agent import ReActAgent\n",
    "\n",
    "from agent_tools.availability_checker import AvailabilityChecker\n",
    "from agent_tools.email_writing import EmailWriter\n",
    "from agent_tools.meeting_scheduling import MeetingScheduler\n",
    "\n",
    "from util.llm_proxy import LLMProxy\n",
    "\n",
    "from config.supported_llms import SupportedLLMs\n",
    "\n",
    "from testdata.email import EMAIL"
   ]
  },
  {
   "cell_type": "code",
   "execution_count": null,
   "metadata": {},
   "outputs": [],
   "source": [
    "import mlflow\n",
    "# poetry run mlflow server --host 127.0.0.1 --port 8080\n",
    "mlflow.set_tracking_uri(uri=\"http://localhost:8080\")\n",
    "mlflow.set_experiment(\"Testing of email ReAct Agent\")\n",
    "\n",
    "mlflow.langchain.autolog()"
   ]
  },
  {
   "cell_type": "code",
   "execution_count": null,
   "metadata": {},
   "outputs": [],
   "source": [
    "max_tokens = 1024\n",
    "tool_list = []\n",
    "\n",
    "llmProxy = LLMProxy(model=SupportedLLMs.GPT_4o, max_tokens=max_tokens)\n",
    "\n",
    "tool_list.append(AvailabilityChecker())\n",
    "tool_list.append(EmailWriter())\n",
    "tool_list.append(MeetingScheduler())"
   ]
  },
  {
   "cell_type": "code",
   "execution_count": null,
   "metadata": {},
   "outputs": [],
   "source": [
    "agent = ReActAgent(llm_proxy=llmProxy, tool_list=tool_list)\n",
    "\n",
    "# Consider usin an agent executor as https://api.python.langchain.com/en/latest/agents/langchain.agents.agent.AgentExecutor.html\n",
    "\n",
    "# display(Image(agent.get_agent_graph()))"
   ]
  },
  {
   "cell_type": "code",
   "execution_count": null,
   "metadata": {},
   "outputs": [],
   "source": [
    "agent.run_agent(EMAIL)"
   ]
  },
  {
   "cell_type": "code",
   "execution_count": null,
   "metadata": {},
   "outputs": [],
   "source": [
    "# agent.print_agent_stream()"
   ]
  },
  {
   "cell_type": "code",
   "execution_count": null,
   "metadata": {},
   "outputs": [],
   "source": [
    "agent.print_agent_response()"
   ]
  },
  {
   "cell_type": "markdown",
   "metadata": {},
   "source": []
  }
 ],
 "metadata": {
  "kernelspec": {
   "display_name": "react-agent-CUxtcVGL-py3.13",
   "language": "python",
   "name": "python3"
  },
  "language_info": {
   "codemirror_mode": {
    "name": "ipython",
    "version": 3
   },
   "file_extension": ".py",
   "mimetype": "text/x-python",
   "name": "python",
   "nbconvert_exporter": "python",
   "pygments_lexer": "ipython3",
   "version": "3.13.2"
  }
 },
 "nbformat": 4,
 "nbformat_minor": 2
}
