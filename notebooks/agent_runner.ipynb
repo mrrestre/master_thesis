{
 "cells": [
  {
   "cell_type": "code",
   "execution_count": null,
   "metadata": {},
   "outputs": [],
   "source": [
    "from IPython.display import Image, display\n",
    "\n",
    "from agents.react_agent import ReActAgent\n",
    "\n",
    "from config.supported_llms import SupportedLLMs\n",
    "\n",
    "from testdata.email import EMAIL"
   ]
  },
  {
   "cell_type": "code",
   "execution_count": null,
   "metadata": {},
   "outputs": [
    {
     "ename": "ValueError",
     "evalue": "No deployment found with: deployment.model_name == meta--llama3.1-70b-instruct",
     "output_type": "error",
     "traceback": [
      "\u001b[31m---------------------------------------------------------------------------\u001b[39m",
      "\u001b[31mValueError\u001b[39m                                Traceback (most recent call last)",
      "\u001b[36mCell\u001b[39m\u001b[36m \u001b[39m\u001b[32mIn[2]\u001b[39m\u001b[32m, line 1\u001b[39m\n\u001b[32m----> \u001b[39m\u001b[32m1\u001b[39m agent = \u001b[43mReActAgent\u001b[49m\u001b[43m(\u001b[49m\u001b[43mllm_to_use\u001b[49m\u001b[43m=\u001b[49m\u001b[43mSupportedLLMs\u001b[49m\u001b[43m.\u001b[49m\u001b[43mLLAMA_31\u001b[49m\u001b[43m)\u001b[49m\n\u001b[32m      3\u001b[39m display(Image(agent.get_agent_graph()))\n",
      "\u001b[36mFile \u001b[39m\u001b[32m~/Documents/Repositories/master_thesis/agents/react_agent.py:37\u001b[39m, in \u001b[36mReActAgent.__init__\u001b[39m\u001b[34m(self, llm_to_use)\u001b[39m\n\u001b[32m     29\u001b[39m \u001b[38;5;28mself\u001b[39m.tools = [\n\u001b[32m     30\u001b[39m     \u001b[38;5;28mself\u001b[39m.define_tool(AvailabilityChecker),\n\u001b[32m     31\u001b[39m     \u001b[38;5;28mself\u001b[39m.define_tool(EmailWriter),\n\u001b[32m     32\u001b[39m     \u001b[38;5;28mself\u001b[39m.define_tool(MeetingScheduler),\n\u001b[32m     33\u001b[39m ]\n\u001b[32m     35\u001b[39m _ = load_dotenv()\n\u001b[32m---> \u001b[39m\u001b[32m37\u001b[39m llm_proxy = \u001b[43mLLMProxy\u001b[49m\u001b[43m(\u001b[49m\u001b[43mmodel\u001b[49m\u001b[43m=\u001b[49m\u001b[43mllm_to_use\u001b[49m\u001b[43m,\u001b[49m\u001b[43m \u001b[49m\u001b[43mmax_tokens\u001b[49m\u001b[43m=\u001b[49m\u001b[32;43m10000\u001b[39;49m\u001b[43m)\u001b[49m\n\u001b[32m     39\u001b[39m \u001b[38;5;28mself\u001b[39m.agent = create_react_agent(\n\u001b[32m     40\u001b[39m     model=llm_proxy.get_llm(), tools=\u001b[38;5;28mself\u001b[39m.tools, prompt=\u001b[38;5;28mself\u001b[39m.create_prompt\n\u001b[32m     41\u001b[39m )\n",
      "\u001b[36mFile \u001b[39m\u001b[32m~/Documents/Repositories/master_thesis/util/llm_proxy.py:24\u001b[39m, in \u001b[36mLLMProxy.__new__\u001b[39m\u001b[34m(cls, model, max_tokens)\u001b[39m\n\u001b[32m     22\u001b[39m \u001b[38;5;28;01mif\u001b[39;00m \u001b[38;5;28mcls\u001b[39m._instance \u001b[38;5;129;01mis\u001b[39;00m \u001b[38;5;28;01mNone\u001b[39;00m:\n\u001b[32m     23\u001b[39m     \u001b[38;5;28mcls\u001b[39m._instance = \u001b[38;5;28msuper\u001b[39m(LLMProxy, \u001b[38;5;28mcls\u001b[39m).\u001b[34m__new__\u001b[39m(\u001b[38;5;28mcls\u001b[39m)\n\u001b[32m---> \u001b[39m\u001b[32m24\u001b[39m     \u001b[38;5;28;43mcls\u001b[39;49m\u001b[43m.\u001b[49m\u001b[43m_instance\u001b[49m\u001b[43m.\u001b[49m\u001b[43m_initialize\u001b[49m\u001b[43m(\u001b[49m\u001b[43mmodel\u001b[49m\u001b[43m,\u001b[49m\u001b[43m \u001b[49m\u001b[43mmax_tokens\u001b[49m\u001b[43m)\u001b[49m\n\u001b[32m     25\u001b[39m \u001b[38;5;28;01mreturn\u001b[39;00m \u001b[38;5;28mcls\u001b[39m._instance\n",
      "\u001b[36mFile \u001b[39m\u001b[32m~/Documents/Repositories/master_thesis/util/llm_proxy.py:32\u001b[39m, in \u001b[36mLLMProxy._initialize\u001b[39m\u001b[34m(self, model, max_tokens)\u001b[39m\n\u001b[32m     30\u001b[39m \u001b[38;5;250m\u001b[39m\u001b[33;03m\"\"\"Initialize the model only once.\"\"\"\u001b[39;00m\n\u001b[32m     31\u001b[39m \u001b[38;5;28;01mif\u001b[39;00m SupportedLLMs.has_value(model.value):\n\u001b[32m---> \u001b[39m\u001b[32m32\u001b[39m     \u001b[38;5;28mself\u001b[39m.llm = \u001b[43minit_llm\u001b[49m\u001b[43m(\u001b[49m\u001b[43mmodel\u001b[49m\u001b[43m.\u001b[49m\u001b[43mvalue\u001b[49m\u001b[43m,\u001b[49m\u001b[43m \u001b[49m\u001b[43mmax_tokens\u001b[49m\u001b[43m)\u001b[49m\n\u001b[32m     33\u001b[39m \u001b[38;5;28;01melse\u001b[39;00m:\n\u001b[32m     34\u001b[39m     \u001b[38;5;28;01mraise\u001b[39;00m \u001b[38;5;167;01mValueError\u001b[39;00m(\u001b[33m\"\u001b[39m\u001b[33mInvalid LLM model\u001b[39m\u001b[33m\"\u001b[39m)\n",
      "\u001b[36mFile \u001b[39m\u001b[32m~/Library/Caches/pypoetry/virtualenvs/react-agent-CUxtcVGL-py3.13/lib/python3.13/site-packages/gen_ai_hub/proxy/langchain/init_models.py:237\u001b[39m, in \u001b[36minit_llm\u001b[39m\u001b[34m(proxy_client, temperature, max_tokens, top_k, top_p, init_func, model_id, *args, **kwargs)\u001b[39m\n\u001b[32m    235\u001b[39m \u001b[38;5;28;01mif\u001b[39;00m model_id:\n\u001b[32m    236\u001b[39m     model_kwargs[\u001b[33m'\u001b[39m\u001b[33mmodel_id\u001b[39m\u001b[33m'\u001b[39m] = model_id\n\u001b[32m--> \u001b[39m\u001b[32m237\u001b[39m \u001b[38;5;28;01mreturn\u001b[39;00m \u001b[43m_init_model\u001b[49m\u001b[43m(\u001b[49m\u001b[43margs\u001b[49m\u001b[43m=\u001b[49m\u001b[43margs\u001b[49m\u001b[43m,\u001b[49m\n\u001b[32m    238\u001b[39m \u001b[43m                   \u001b[49m\u001b[43mproxy_client\u001b[49m\u001b[43m=\u001b[49m\u001b[43mproxy_client\u001b[49m\u001b[43m,\u001b[49m\n\u001b[32m    239\u001b[39m \u001b[43m                   \u001b[49m\u001b[43mmodel_type\u001b[49m\u001b[43m=\u001b[49m\u001b[43mModelType\u001b[49m\u001b[43m.\u001b[49m\u001b[43mLLM\u001b[49m\u001b[43m,\u001b[49m\n\u001b[32m    240\u001b[39m \u001b[43m                   \u001b[49m\u001b[43mmodel_kwargs\u001b[49m\u001b[43m=\u001b[49m\u001b[43mmodel_kwargs\u001b[49m\u001b[43m,\u001b[49m\n\u001b[32m    241\u001b[39m \u001b[43m                   \u001b[49m\u001b[43minit_func\u001b[49m\u001b[43m=\u001b[49m\u001b[43minit_func\u001b[49m\u001b[43m,\u001b[49m\n\u001b[32m    242\u001b[39m \u001b[43m                   \u001b[49m\u001b[43mkwargs\u001b[49m\u001b[43m=\u001b[49m\u001b[43mkwargs\u001b[49m\u001b[43m)\u001b[49m\n",
      "\u001b[36mFile \u001b[39m\u001b[32m~/Library/Caches/pypoetry/virtualenvs/react-agent-CUxtcVGL-py3.13/lib/python3.13/site-packages/gen_ai_hub/proxy/langchain/init_models.py:190\u001b[39m, in \u001b[36m_init_model\u001b[39m\u001b[34m(proxy_client, model_type, args, kwargs, init_func, model_kwargs)\u001b[39m\n\u001b[32m    187\u001b[39m \u001b[38;5;28;01mif\u001b[39;00m init_func:\n\u001b[32m    188\u001b[39m     \u001b[38;5;28;01mreturn\u001b[39;00m _init_custom_model(proxy_client=proxy_client, init_func=init_func, args=args, kwargs=kwargs,\n\u001b[32m    189\u001b[39m                               model_kwargs=model_kwargs)\n\u001b[32m--> \u001b[39m\u001b[32m190\u001b[39m retrieval_result: RetrievalResult = \u001b[43mcatalog\u001b[49m\u001b[43m.\u001b[49m\u001b[43mretrieve\u001b[49m\u001b[43m(\u001b[49m\u001b[43mproxy_client\u001b[49m\u001b[43m=\u001b[49m\u001b[43mproxy_client\u001b[49m\u001b[43m,\u001b[49m\n\u001b[32m    191\u001b[39m \u001b[43m                                                     \u001b[49m\u001b[43margs\u001b[49m\u001b[43m=\u001b[49m\u001b[43margs\u001b[49m\u001b[43m,\u001b[49m\n\u001b[32m    192\u001b[39m \u001b[43m                                                     \u001b[49m\u001b[43mkwargs\u001b[49m\u001b[43m=\u001b[49m\u001b[43mkwargs\u001b[49m\u001b[43m,\u001b[49m\n\u001b[32m    193\u001b[39m \u001b[43m                                                     \u001b[49m\u001b[43mmodel_type\u001b[49m\u001b[43m=\u001b[49m\u001b[43mmodel_type\u001b[49m\u001b[43m)\u001b[49m\n\u001b[32m    194\u001b[39m \u001b[38;5;28;01mreturn\u001b[39;00m retrieval_result.registry_entry.init_func(proxy_client=retrieval_result.proxy_client,\n\u001b[32m    195\u001b[39m                                                  deployment=retrieval_result.deployment,\n\u001b[32m    196\u001b[39m                                                  **model_kwargs)\n",
      "\u001b[36mFile \u001b[39m\u001b[32m~/Library/Caches/pypoetry/virtualenvs/react-agent-CUxtcVGL-py3.13/lib/python3.13/site-packages/gen_ai_hub/proxy/langchain/init_models.py:134\u001b[39m, in \u001b[36mCatalog.retrieve\u001b[39m\u001b[34m(self, proxy_client, args, kwargs, model_type)\u001b[39m\n\u001b[32m    128\u001b[39m registry_entry = \u001b[38;5;28mself\u001b[39m._get_registry_entry(\n\u001b[32m    129\u001b[39m     proxy_client=proxy_client,\n\u001b[32m    130\u001b[39m     model_name=model_name,\n\u001b[32m    131\u001b[39m     model_type=model_type\n\u001b[32m    132\u001b[39m )\n\u001b[32m    133\u001b[39m f_select_deployment = registry_entry.f_select_deployment \u001b[38;5;129;01mor\u001b[39;00m default_f_select_deployment\n\u001b[32m--> \u001b[39m\u001b[32m134\u001b[39m deployment = \u001b[43mf_select_deployment\u001b[49m\u001b[43m(\u001b[49m\u001b[43mproxy_client\u001b[49m\u001b[43m,\u001b[49m\u001b[43m \u001b[49m\u001b[43m*\u001b[49m\u001b[43m*\u001b[49m\u001b[43mmodel_identification_kwargs\u001b[49m\u001b[43m)\u001b[49m\n\u001b[32m    135\u001b[39m \u001b[38;5;28;01mreturn\u001b[39;00m RetrievalResult(proxy_client=proxy_client, deployment=deployment, registry_entry=registry_entry)\n",
      "\u001b[36mFile \u001b[39m\u001b[32m~/Library/Caches/pypoetry/virtualenvs/react-agent-CUxtcVGL-py3.13/lib/python3.13/site-packages/gen_ai_hub/proxy/langchain/init_models.py:33\u001b[39m, in \u001b[36mdefault_f_select_deployment\u001b[39m\u001b[34m(proxy_client, **model_identification_kwargs)\u001b[39m\n\u001b[32m     31\u001b[39m \u001b[38;5;28;01mdef\u001b[39;00m\u001b[38;5;250m \u001b[39m\u001b[34mdefault_f_select_deployment\u001b[39m(proxy_client: BaseProxyClient,\n\u001b[32m     32\u001b[39m                                 **model_identification_kwargs: Dict[\u001b[38;5;28mstr\u001b[39m, \u001b[38;5;28mstr\u001b[39m]) -> BaseDeployment:\n\u001b[32m---> \u001b[39m\u001b[32m33\u001b[39m     \u001b[38;5;28;01mreturn\u001b[39;00m \u001b[43mproxy_client\u001b[49m\u001b[43m.\u001b[49m\u001b[43mselect_deployment\u001b[49m\u001b[43m(\u001b[49m\u001b[43m*\u001b[49m\u001b[43m*\u001b[49m\u001b[43mmodel_identification_kwargs\u001b[49m\u001b[43m)\u001b[49m\n",
      "\u001b[36mFile \u001b[39m\u001b[32m~/Library/Caches/pypoetry/virtualenvs/react-agent-CUxtcVGL-py3.13/lib/python3.13/site-packages/gen_ai_hub/proxy/gen_ai_hub_proxy/client.py:232\u001b[39m, in \u001b[36mGenAIHubProxyClient.select_deployment\u001b[39m\u001b[34m(self, raise_on_multiple, **search_key_value)\u001b[39m\n\u001b[32m    230\u001b[39m     \u001b[38;5;28;01mreturn\u001b[39;00m matched_deployments[\u001b[32m0\u001b[39m]\n\u001b[32m    231\u001b[39m \u001b[38;5;28;01melse\u001b[39;00m:\n\u001b[32m--> \u001b[39m\u001b[32m232\u001b[39m     \u001b[38;5;28;01mraise\u001b[39;00m \u001b[38;5;167;01mValueError\u001b[39;00m(\u001b[33m'\u001b[39m\u001b[33mNo deployment found with: \u001b[39m\u001b[33m'\u001b[39m + \u001b[33m'\u001b[39m\u001b[33m, \u001b[39m\u001b[33m'\u001b[39m.join(\n\u001b[32m    233\u001b[39m         [\u001b[33mf\u001b[39m\u001b[33m'\u001b[39m\u001b[33mdeployment.\u001b[39m\u001b[38;5;132;01m{\u001b[39;00mk\u001b[38;5;132;01m}\u001b[39;00m\u001b[33m == \u001b[39m\u001b[38;5;132;01m{\u001b[39;00mv\u001b[38;5;132;01m}\u001b[39;00m\u001b[33m'\u001b[39m \u001b[38;5;28;01mfor\u001b[39;00m k, v \u001b[38;5;129;01min\u001b[39;00m search_key_value.items()]\n\u001b[32m    234\u001b[39m     ))\n",
      "\u001b[31mValueError\u001b[39m: No deployment found with: deployment.model_name == meta--llama3.1-70b-instruct"
     ]
    }
   ],
   "source": [
    "agent = ReActAgent(llm_to_use=SupportedLLMs.GPT_4o)\n",
    "\n",
    "display(Image(agent.get_agent_graph()))"
   ]
  },
  {
   "cell_type": "code",
   "execution_count": null,
   "metadata": {},
   "outputs": [],
   "source": [
    "agent.run_agent(EMAIL)"
   ]
  },
  {
   "cell_type": "code",
   "execution_count": null,
   "metadata": {},
   "outputs": [],
   "source": [
    "agent.print_agent_stream()"
   ]
  },
  {
   "cell_type": "code",
   "execution_count": null,
   "metadata": {},
   "outputs": [],
   "source": [
    "agent.print_agent_response()"
   ]
  },
  {
   "cell_type": "markdown",
   "metadata": {},
   "source": []
  }
 ],
 "metadata": {
  "kernelspec": {
   "display_name": "react-agent-CUxtcVGL-py3.13",
   "language": "python",
   "name": "python3"
  },
  "language_info": {
   "codemirror_mode": {
    "name": "ipython",
    "version": 3
   },
   "file_extension": ".py",
   "mimetype": "text/x-python",
   "name": "python",
   "nbconvert_exporter": "python",
   "pygments_lexer": "ipython3",
   "version": "3.13.2"
  }
 },
 "nbformat": 4,
 "nbformat_minor": 2
}
